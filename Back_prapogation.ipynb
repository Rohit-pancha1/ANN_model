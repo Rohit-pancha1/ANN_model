{
 "cells": [
  {
   "cell_type": "code",
   "execution_count": 1,
   "id": "f6c70690-6fa7-426b-9c4d-11445ec17e9e",
   "metadata": {},
   "outputs": [],
   "source": [
    "import torch"
   ]
  },
  {
   "cell_type": "code",
   "execution_count": 2,
   "id": "88c096db-5215-4bdc-a3d1-3e9c57d41e4b",
   "metadata": {},
   "outputs": [],
   "source": [
    "x = torch.tensor(4.0, requires_grad =True)"
   ]
  },
  {
   "cell_type": "code",
   "execution_count": 3,
   "id": "dbc15e12-63d6-4e7b-a2b2-0738d6505bc8",
   "metadata": {},
   "outputs": [
    {
     "data": {
      "text/plain": [
       "tensor(4., requires_grad=True)"
      ]
     },
     "execution_count": 3,
     "metadata": {},
     "output_type": "execute_result"
    }
   ],
   "source": [
    "x"
   ]
  },
  {
   "cell_type": "code",
   "execution_count": 4,
   "id": "bfa1fdb5-2167-4e31-9089-35d28f28cdd6",
   "metadata": {},
   "outputs": [
    {
     "data": {
      "text/plain": [
       "tensor(16., grad_fn=<PowBackward0>)"
      ]
     },
     "execution_count": 4,
     "metadata": {},
     "output_type": "execute_result"
    }
   ],
   "source": [
    "y= x**2\n",
    "y"
   ]
  },
  {
   "cell_type": "markdown",
   "id": "e7a02475-cfb2-4713-b00a-daf80bcd4efd",
   "metadata": {},
   "source": [
    "#### Back propogation"
   ]
  },
  {
   "cell_type": "code",
   "execution_count": 5,
   "id": "e090ae2f-c0b5-4bbf-8013-fc08b2c803dd",
   "metadata": {},
   "outputs": [],
   "source": [
    "y.backward()"
   ]
  },
  {
   "cell_type": "code",
   "execution_count": 6,
   "id": "bb4e2a7d-f4ab-4bc0-8f45-d6fca2490177",
   "metadata": {},
   "outputs": [
    {
     "name": "stdout",
     "output_type": "stream",
     "text": [
      "tensor(8.)\n"
     ]
    }
   ],
   "source": [
    "print(x.grad)"
   ]
  },
  {
   "cell_type": "code",
   "execution_count": 7,
   "id": "358e1b93-00cf-4589-a92e-2b76159242ff",
   "metadata": {},
   "outputs": [],
   "source": [
    "list = [[2.,3.,1.],[4.,5.,3.],[7.,6.,4.]]\n",
    "torch_input = torch.tensor(list, requires_grad= True)"
   ]
  },
  {
   "cell_type": "code",
   "execution_count": 8,
   "id": "a1a7c9b0-fc6c-402f-b66d-8ea680030588",
   "metadata": {},
   "outputs": [
    {
     "data": {
      "text/plain": [
       "tensor([[2., 3., 1.],\n",
       "        [4., 5., 3.],\n",
       "        [7., 6., 4.]], requires_grad=True)"
      ]
     },
     "execution_count": 8,
     "metadata": {},
     "output_type": "execute_result"
    }
   ],
   "source": [
    "torch_input"
   ]
  },
  {
   "cell_type": "code",
   "execution_count": 9,
   "id": "af71d00b-10db-4baf-b189-d613e6082af0",
   "metadata": {},
   "outputs": [],
   "source": [
    "y= torch_input**3+torch_input**2"
   ]
  },
  {
   "cell_type": "code",
   "execution_count": 10,
   "id": "d50bc4a5-d049-4e31-96e1-c8738da19875",
   "metadata": {},
   "outputs": [
    {
     "data": {
      "text/plain": [
       "tensor([[ 12.,  36.,   2.],\n",
       "        [ 80., 150.,  36.],\n",
       "        [392., 252.,  80.]], grad_fn=<AddBackward0>)"
      ]
     },
     "execution_count": 10,
     "metadata": {},
     "output_type": "execute_result"
    }
   ],
   "source": [
    "y"
   ]
  },
  {
   "cell_type": "code",
   "execution_count": 11,
   "id": "be2c13c0-5ea6-486e-830e-915243a2cd2d",
   "metadata": {},
   "outputs": [],
   "source": [
    "z = y.sum()"
   ]
  },
  {
   "cell_type": "code",
   "execution_count": 12,
   "id": "34d04051-2870-4b0f-b882-63ae9d44a97c",
   "metadata": {},
   "outputs": [
    {
     "data": {
      "text/plain": [
       "tensor(1040., grad_fn=<SumBackward0>)"
      ]
     },
     "execution_count": 12,
     "metadata": {},
     "output_type": "execute_result"
    }
   ],
   "source": [
    "z"
   ]
  },
  {
   "cell_type": "code",
   "execution_count": 13,
   "id": "ac07eb46-0a99-47ed-b0eb-b2ad4da010e5",
   "metadata": {},
   "outputs": [],
   "source": [
    "z.backward()"
   ]
  },
  {
   "cell_type": "code",
   "execution_count": 14,
   "id": "dfdc65c2-dad8-4b7b-8b1a-a0770eeeedc8",
   "metadata": {},
   "outputs": [
    {
     "data": {
      "text/plain": [
       "tensor([[ 16.,  33.,   5.],\n",
       "        [ 56.,  85.,  33.],\n",
       "        [161., 120.,  56.]])"
      ]
     },
     "execution_count": 14,
     "metadata": {},
     "output_type": "execute_result"
    }
   ],
   "source": [
    "torch_input.grad"
   ]
  },
  {
   "cell_type": "code",
   "execution_count": null,
   "id": "1142259a-ada1-4c78-85ac-a283fcac7e32",
   "metadata": {},
   "outputs": [],
   "source": []
  }
 ],
 "metadata": {
  "kernelspec": {
   "display_name": "Python 3 (ipykernel)",
   "language": "python",
   "name": "python3"
  },
  "language_info": {
   "codemirror_mode": {
    "name": "ipython",
    "version": 3
   },
   "file_extension": ".py",
   "mimetype": "text/x-python",
   "name": "python",
   "nbconvert_exporter": "python",
   "pygments_lexer": "ipython3",
   "version": "3.11.5"
  }
 },
 "nbformat": 4,
 "nbformat_minor": 5
}
